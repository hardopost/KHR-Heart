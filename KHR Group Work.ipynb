{
 "cells": [
  {
   "cell_type": "markdown",
   "id": "fdf81b9c",
   "metadata": {},
   "source": [
    "## KHR Group Work"
   ]
  },
  {
   "cell_type": "markdown",
   "id": "9ecddf2d",
   "metadata": {},
   "source": [
    "### Data description\n",
    "<b>Chest pain type</b>: <br>\n",
    "<b>ATA</b> - Atypical angina - Angina pectoris which does not have associated classical symptoms of chest pain. Symptoms may include weakness, nausea, or sweating.<br>\n",
    "<br>\n",
    "<b>NAP</b> - Non-anginal pain - A chest pain is very likely nonanginal if its duration is over 30 minutes or less than 5 seconds, it increases with inspiration, can be brought on with one movement of the trunk or arm, can be brought on by local fingers pressure, or bending forward, or it can be relieved immediately on lying down.<br>\n",
    "<br>\n",
    "<b>ASY</b> - Asymtomatic - Silent (asymptomatic) myocardial ischemia (SMI) is defined as a transient alteration in myocardial perfusion in the absence of chest pain or the usual anginal equivalents.  <br>\n",
    "<br>\n",
    "<b>TA</b> - Typical angina - The most common symptom of a heart attack in both males and females is chest pain or discomfort and this can be described as tightness, pressure, squeezing or aching.<br>\n",
    "\n",
    "<b>RestingBP</b> - resting blood pressure [mm Hg].\n",
    "<img src=\"bp.jpg\" alt=\"Blood Pressure\" width=\"500\" height=\"600\"> <br>\n",
    "\n",
    "<b>Cholesterol</b> - serum cholesterol [mm/dl]. (mm/dl Mistake? should be mg/dL?) Measuring your LDL (“bad” cholesterol), HDL (“good” cholesterol), and triglycerides will give you a number called your total blood cholesterol, or serum cholesterol. Healthy serum cholesterol is less than 200 mg/dL. Serum cholesterol = HDL + LDL cholesterol levels + 20 percent of triglycerides.(source:https://www.healthline.com/health/serum-cholesterol) <br>\n",
    "<br>\n",
    "\n",
    "<b>FastingBS</b> - fasting blood sugar [1: if FastingBS > 120 mg/dl, 0: otherwise] <br>\n",
    "The expected values for normal fasting blood glucose concentration are between 70 mg/dL (3.9 mmol/L) and 100 mg/dL (5.6 mmol/L). When fasting blood glucose is between 100 to 125 mg/dL (5.6 to 6.9 mmol/L) changes in lifestyle and monitoring glycemia are recommended. If fasting blood glucose is 126 mg/dL (7 mmol/L) or higher on two separate tests, diabetes is diagnosed. An individual with low fasting blood glucose concentration (hypoglycemia) – below 70 mg/dL (3.9 mmol/L) – will experience dizziness, sweating, palpitations, blurred vision and other symptoms that have to be monitored. (source: https://www.who.int/data/gho/indicator-metadata-registry/imr-details/2380)<br>\n",
    "<br>\n",
    "\n",
    "<b>Resting ECG</b> - resting electrocardiogram results:<br>\n",
    "<b>Normal</b>: Normal, <br>\n",
    "<b>ST</b>: having ST-T wave abnormality (T wave inversions and/or ST elevation or depression of > 0.05 mV),<br>\n",
    "<b>LVH</b>: showing probable or definite left ventricular hypertrophy by Estes' criteria].<br>\n",
    "<br>\n",
    "\n",
    "<b>MaxHR</b> - maximum heart rate achieved [Numeric value between 60 and 202] <br>\n",
    "<br>\n",
    "<b>ExerciseAngina</b> - exercise-induced angina [Y: Yes, N: No] <br>\n",
    "<br>\n",
    "<b>Oldpeak</b> ST [Numeric value measured in depression] ST depression induced by exercise relative\n",
    "to rest. (Basicly a line in EKG doesn't come back to zero state, where it should come) (source: https://www.ijrte.org/wp-content/uploads/papers/v8i2S3/B11630782S319.pdf)\n",
    "\n",
    "<b>ST_Slope</b> - the slope of the peak exercise ST segment. (Basicly the shape of line in certain place in EKG). <br>\n",
    "<b>Up</b>: upsloping, <br>\n",
    "<b>Flat</b>: flat, <br>\n",
    "<b>Down</b>: downsloping. <br>\n",
    "<br>\n",
    "<b>HeartDisease</b>: output class [1: heart disease, 0: Normal]\n",
    "\n",
    "\n",
    "\n"
   ]
  },
  {
   "cell_type": "markdown",
   "id": "2376ef3e",
   "metadata": {},
   "source": [
    "## First look at data"
   ]
  },
  {
   "cell_type": "code",
   "execution_count": 1,
   "id": "47308103",
   "metadata": {},
   "outputs": [
    {
     "data": {
      "text/html": [
       "<div>\n",
       "<style scoped>\n",
       "    .dataframe tbody tr th:only-of-type {\n",
       "        vertical-align: middle;\n",
       "    }\n",
       "\n",
       "    .dataframe tbody tr th {\n",
       "        vertical-align: top;\n",
       "    }\n",
       "\n",
       "    .dataframe thead th {\n",
       "        text-align: right;\n",
       "    }\n",
       "</style>\n",
       "<table border=\"1\" class=\"dataframe\">\n",
       "  <thead>\n",
       "    <tr style=\"text-align: right;\">\n",
       "      <th></th>\n",
       "      <th>Age</th>\n",
       "      <th>Sex</th>\n",
       "      <th>ChestPainType</th>\n",
       "      <th>RestingBP</th>\n",
       "      <th>Cholesterol</th>\n",
       "      <th>FastingBS</th>\n",
       "      <th>RestingECG</th>\n",
       "      <th>MaxHR</th>\n",
       "      <th>ExerciseAngina</th>\n",
       "      <th>Oldpeak</th>\n",
       "      <th>ST_Slope</th>\n",
       "      <th>HeartDisease</th>\n",
       "    </tr>\n",
       "  </thead>\n",
       "  <tbody>\n",
       "    <tr>\n",
       "      <th>0</th>\n",
       "      <td>40</td>\n",
       "      <td>M</td>\n",
       "      <td>ATA</td>\n",
       "      <td>140</td>\n",
       "      <td>289</td>\n",
       "      <td>0</td>\n",
       "      <td>Normal</td>\n",
       "      <td>172</td>\n",
       "      <td>N</td>\n",
       "      <td>0.0</td>\n",
       "      <td>Up</td>\n",
       "      <td>0</td>\n",
       "    </tr>\n",
       "    <tr>\n",
       "      <th>1</th>\n",
       "      <td>49</td>\n",
       "      <td>F</td>\n",
       "      <td>NAP</td>\n",
       "      <td>160</td>\n",
       "      <td>180</td>\n",
       "      <td>0</td>\n",
       "      <td>Normal</td>\n",
       "      <td>156</td>\n",
       "      <td>N</td>\n",
       "      <td>1.0</td>\n",
       "      <td>Flat</td>\n",
       "      <td>1</td>\n",
       "    </tr>\n",
       "    <tr>\n",
       "      <th>2</th>\n",
       "      <td>37</td>\n",
       "      <td>M</td>\n",
       "      <td>ATA</td>\n",
       "      <td>130</td>\n",
       "      <td>283</td>\n",
       "      <td>0</td>\n",
       "      <td>ST</td>\n",
       "      <td>98</td>\n",
       "      <td>N</td>\n",
       "      <td>0.0</td>\n",
       "      <td>Up</td>\n",
       "      <td>0</td>\n",
       "    </tr>\n",
       "    <tr>\n",
       "      <th>3</th>\n",
       "      <td>48</td>\n",
       "      <td>F</td>\n",
       "      <td>ASY</td>\n",
       "      <td>138</td>\n",
       "      <td>214</td>\n",
       "      <td>0</td>\n",
       "      <td>Normal</td>\n",
       "      <td>108</td>\n",
       "      <td>Y</td>\n",
       "      <td>1.5</td>\n",
       "      <td>Flat</td>\n",
       "      <td>1</td>\n",
       "    </tr>\n",
       "    <tr>\n",
       "      <th>4</th>\n",
       "      <td>54</td>\n",
       "      <td>M</td>\n",
       "      <td>NAP</td>\n",
       "      <td>150</td>\n",
       "      <td>195</td>\n",
       "      <td>0</td>\n",
       "      <td>Normal</td>\n",
       "      <td>122</td>\n",
       "      <td>N</td>\n",
       "      <td>0.0</td>\n",
       "      <td>Up</td>\n",
       "      <td>0</td>\n",
       "    </tr>\n",
       "  </tbody>\n",
       "</table>\n",
       "</div>"
      ],
      "text/plain": [
       "   Age Sex ChestPainType  RestingBP  Cholesterol  FastingBS RestingECG  MaxHR  \\\n",
       "0   40   M           ATA        140          289          0     Normal    172   \n",
       "1   49   F           NAP        160          180          0     Normal    156   \n",
       "2   37   M           ATA        130          283          0         ST     98   \n",
       "3   48   F           ASY        138          214          0     Normal    108   \n",
       "4   54   M           NAP        150          195          0     Normal    122   \n",
       "\n",
       "  ExerciseAngina  Oldpeak ST_Slope  HeartDisease  \n",
       "0              N      0.0       Up             0  \n",
       "1              N      1.0     Flat             1  \n",
       "2              N      0.0       Up             0  \n",
       "3              Y      1.5     Flat             1  \n",
       "4              N      0.0       Up             0  "
      ]
     },
     "execution_count": 1,
     "metadata": {},
     "output_type": "execute_result"
    }
   ],
   "source": [
    "import pandas as pd\n",
    "data = pd.read_csv('heart.csv')\n",
    "data.shape\n",
    "data.head()"
   ]
  },
  {
   "cell_type": "markdown",
   "id": "6342a9a7",
   "metadata": {},
   "source": [
    "### Distribution of age into 5 bins and men and women separately into same 5 age bins"
   ]
  },
  {
   "cell_type": "code",
   "execution_count": 15,
   "id": "3deb7914",
   "metadata": {},
   "outputs": [
    {
     "name": "stdout",
     "output_type": "stream",
     "text": [
      "Minimum age 28\n",
      "Maximum age 77\n",
      "AxesSubplot(0.125,0.125;0.775x0.755)\n",
      "AxesSubplot(0.125,0.125;0.775x0.755)\n",
      "AxesSubplot(0.125,0.125;0.775x0.755)\n"
     ]
    },
    {
     "data": {
      "image/png": "[encoded data removed]",
      "text/plain": [
       "<Figure size 432x288 with 1 Axes>"
      ]
     },
     "metadata": {
      "needs_background": "light"
     },
     "output_type": "display_data"
    }
   ],
   "source": [
    "print(\"Minimum age\", data.Age.min())\n",
    "print(\"Maximum age\", data.Age.max())\n",
    "\n",
    "bins = [28, 38, 48, 58, 68, 78]\n",
    "\n",
    "#all data into bins\n",
    "print(data[('Age')].hist(bins=bins,color='blue'))\n",
    "\n",
    "#men and women separatewly into bins\n",
    "men = data[data['Sex'] == 'M']\n",
    "women = data[data['Sex'] == 'F']\n",
    "print(men[('Age')].hist(bins=bins,color='green'))\n",
    "print(women[('Age')].hist(bins=bins,color='yellow'))"
   ]
  },
  {
   "cell_type": "code",
   "execution_count": 14,
   "id": "78eb55be",
   "metadata": {},
   "outputs": [
    {
     "data": {
      "text/html": [
       "<div>\n",
       "<style scoped>\n",
       "    .dataframe tbody tr th:only-of-type {\n",
       "        vertical-align: middle;\n",
       "    }\n",
       "\n",
       "    .dataframe tbody tr th {\n",
       "        vertical-align: top;\n",
       "    }\n",
       "\n",
       "    .dataframe thead th {\n",
       "        text-align: right;\n",
       "    }\n",
       "</style>\n",
       "<table border=\"1\" class=\"dataframe\">\n",
       "  <thead>\n",
       "    <tr style=\"text-align: right;\">\n",
       "      <th></th>\n",
       "      <th>Age</th>\n",
       "      <th>Sex</th>\n",
       "      <th>ChestPainType</th>\n",
       "      <th>RestingBP</th>\n",
       "      <th>Cholesterol</th>\n",
       "      <th>FastingBS</th>\n",
       "      <th>RestingECG</th>\n",
       "      <th>MaxHR</th>\n",
       "      <th>ExerciseAngina</th>\n",
       "      <th>Oldpeak</th>\n",
       "      <th>ST_Slope</th>\n",
       "      <th>HeartDisease</th>\n",
       "    </tr>\n",
       "  </thead>\n",
       "  <tbody>\n",
       "    <tr>\n",
       "      <th>375</th>\n",
       "      <td>73</td>\n",
       "      <td>F</td>\n",
       "      <td>NAP</td>\n",
       "      <td>160</td>\n",
       "      <td>0</td>\n",
       "      <td>0</td>\n",
       "      <td>ST</td>\n",
       "      <td>121</td>\n",
       "      <td>N</td>\n",
       "      <td>0.0</td>\n",
       "      <td>Up</td>\n",
       "      <td>1</td>\n",
       "    </tr>\n",
       "    <tr>\n",
       "      <th>619</th>\n",
       "      <td>74</td>\n",
       "      <td>F</td>\n",
       "      <td>ATA</td>\n",
       "      <td>120</td>\n",
       "      <td>269</td>\n",
       "      <td>0</td>\n",
       "      <td>LVH</td>\n",
       "      <td>121</td>\n",
       "      <td>Y</td>\n",
       "      <td>0.2</td>\n",
       "      <td>Up</td>\n",
       "      <td>0</td>\n",
       "    </tr>\n",
       "    <tr>\n",
       "      <th>630</th>\n",
       "      <td>71</td>\n",
       "      <td>F</td>\n",
       "      <td>ASY</td>\n",
       "      <td>112</td>\n",
       "      <td>149</td>\n",
       "      <td>0</td>\n",
       "      <td>Normal</td>\n",
       "      <td>125</td>\n",
       "      <td>N</td>\n",
       "      <td>1.6</td>\n",
       "      <td>Flat</td>\n",
       "      <td>0</td>\n",
       "    </tr>\n",
       "    <tr>\n",
       "      <th>644</th>\n",
       "      <td>71</td>\n",
       "      <td>F</td>\n",
       "      <td>NAP</td>\n",
       "      <td>110</td>\n",
       "      <td>265</td>\n",
       "      <td>1</td>\n",
       "      <td>LVH</td>\n",
       "      <td>130</td>\n",
       "      <td>N</td>\n",
       "      <td>0.0</td>\n",
       "      <td>Up</td>\n",
       "      <td>0</td>\n",
       "    </tr>\n",
       "    <tr>\n",
       "      <th>688</th>\n",
       "      <td>76</td>\n",
       "      <td>F</td>\n",
       "      <td>NAP</td>\n",
       "      <td>140</td>\n",
       "      <td>197</td>\n",
       "      <td>0</td>\n",
       "      <td>ST</td>\n",
       "      <td>116</td>\n",
       "      <td>N</td>\n",
       "      <td>1.1</td>\n",
       "      <td>Flat</td>\n",
       "      <td>0</td>\n",
       "    </tr>\n",
       "    <tr>\n",
       "      <th>788</th>\n",
       "      <td>68</td>\n",
       "      <td>F</td>\n",
       "      <td>NAP</td>\n",
       "      <td>120</td>\n",
       "      <td>211</td>\n",
       "      <td>0</td>\n",
       "      <td>LVH</td>\n",
       "      <td>115</td>\n",
       "      <td>N</td>\n",
       "      <td>1.5</td>\n",
       "      <td>Flat</td>\n",
       "      <td>0</td>\n",
       "    </tr>\n",
       "    <tr>\n",
       "      <th>813</th>\n",
       "      <td>69</td>\n",
       "      <td>F</td>\n",
       "      <td>TA</td>\n",
       "      <td>140</td>\n",
       "      <td>239</td>\n",
       "      <td>0</td>\n",
       "      <td>Normal</td>\n",
       "      <td>151</td>\n",
       "      <td>N</td>\n",
       "      <td>1.8</td>\n",
       "      <td>Up</td>\n",
       "      <td>0</td>\n",
       "    </tr>\n",
       "    <tr>\n",
       "      <th>870</th>\n",
       "      <td>71</td>\n",
       "      <td>F</td>\n",
       "      <td>ATA</td>\n",
       "      <td>160</td>\n",
       "      <td>302</td>\n",
       "      <td>0</td>\n",
       "      <td>Normal</td>\n",
       "      <td>162</td>\n",
       "      <td>N</td>\n",
       "      <td>0.4</td>\n",
       "      <td>Up</td>\n",
       "      <td>0</td>\n",
       "    </tr>\n",
       "  </tbody>\n",
       "</table>\n",
       "</div>"
      ],
      "text/plain": [
       "     Age Sex ChestPainType  RestingBP  Cholesterol  FastingBS RestingECG  \\\n",
       "375   73   F           NAP        160            0          0         ST   \n",
       "619   74   F           ATA        120          269          0        LVH   \n",
       "630   71   F           ASY        112          149          0     Normal   \n",
       "644   71   F           NAP        110          265          1        LVH   \n",
       "688   76   F           NAP        140          197          0         ST   \n",
       "788   68   F           NAP        120          211          0        LVH   \n",
       "813   69   F            TA        140          239          0     Normal   \n",
       "870   71   F           ATA        160          302          0     Normal   \n",
       "\n",
       "     MaxHR ExerciseAngina  Oldpeak ST_Slope  HeartDisease  \n",
       "375    121              N      0.0       Up             1  \n",
       "619    121              Y      0.2       Up             0  \n",
       "630    125              N      1.6     Flat             0  \n",
       "644    130              N      0.0       Up             0  \n",
       "688    116              N      1.1     Flat             0  \n",
       "788    115              N      1.5     Flat             0  \n",
       "813    151              N      1.8       Up             0  \n",
       "870    162              N      0.4       Up             0  "
      ]
     },
     "execution_count": 14,
     "metadata": {},
     "output_type": "execute_result"
    }
   ],
   "source": [
    "# women in age bin of 68-78, only 8 instances and olny one with heart failure. If that instance happens not to be in \n",
    "# training set, then can't predict that.\n",
    "women_68_78 = women[women['Age'] > 67]\n",
    "women_68_78.head(10)"
   ]
  },
  {
   "cell_type": "markdown",
   "id": "1b10aa2c",
   "metadata": {},
   "source": [
    "### Counts of features values"
   ]
  },
  {
   "cell_type": "code",
   "execution_count": 3,
   "id": "942ceeec",
   "metadata": {},
   "outputs": [
    {
     "data": {
      "text/plain": [
       "ASY    496\n",
       "NAP    203\n",
       "ATA    173\n",
       "TA      46\n",
       "Name: ChestPainType, dtype: int64"
      ]
     },
     "execution_count": 3,
     "metadata": {},
     "output_type": "execute_result"
    }
   ],
   "source": [
    "#count of ChestPainType type values\n",
    "data['ChestPainType'].value_counts()"
   ]
  },
  {
   "cell_type": "code",
   "execution_count": 4,
   "id": "78ba3ddd",
   "metadata": {},
   "outputs": [
    {
     "data": {
      "text/plain": [
       "0    704\n",
       "1    214\n",
       "Name: FastingBS, dtype: int64"
      ]
     },
     "execution_count": 4,
     "metadata": {},
     "output_type": "execute_result"
    }
   ],
   "source": [
    "#count of 'FastingBS' values\n",
    "data['FastingBS'].value_counts()"
   ]
  },
  {
   "cell_type": "code",
   "execution_count": 5,
   "id": "144122a4",
   "metadata": {},
   "outputs": [
    {
     "data": {
      "text/plain": [
       "N    547\n",
       "Y    371\n",
       "Name: ExerciseAngina, dtype: int64"
      ]
     },
     "execution_count": 5,
     "metadata": {},
     "output_type": "execute_result"
    }
   ],
   "source": [
    "#count of 'ExerciseAngina' yes, no values\n",
    "data['ExerciseAngina'].value_counts()"
   ]
  },
  {
   "cell_type": "code",
   "execution_count": 6,
   "id": "1555da9d",
   "metadata": {},
   "outputs": [
    {
     "data": {
      "text/plain": [
       " 0.0    368\n",
       " 1.0     86\n",
       " 2.0     76\n",
       " 1.5     53\n",
       " 3.0     28\n",
       " 1.2     26\n",
       " 0.2     22\n",
       " 0.5     19\n",
       " 1.4     18\n",
       " 1.8     17\n",
       " 2.5     16\n",
       " 0.8     16\n",
       " 1.6     16\n",
       " 0.1     14\n",
       " 0.6     14\n",
       " 0.4     11\n",
       " 0.3     11\n",
       " 4.0      8\n",
       " 0.7      7\n",
       " 2.8      7\n",
       " 1.3      7\n",
       " 2.6      7\n",
       " 1.1      7\n",
       " 1.9      7\n",
       " 1.7      6\n",
       " 2.2      5\n",
       " 0.9      4\n",
       " 3.6      4\n",
       " 2.4      4\n",
       " 3.4      3\n",
       " 2.1      2\n",
       "-0.1      2\n",
       " 4.2      2\n",
       " 3.2      2\n",
       " 3.5      2\n",
       "-0.5      2\n",
       " 2.3      2\n",
       "-1.0      2\n",
       " 2.9      1\n",
       " 3.8      1\n",
       "-0.9      1\n",
       "-2.6      1\n",
       "-1.5      1\n",
       " 3.7      1\n",
       " 5.0      1\n",
       "-2.0      1\n",
       "-0.8      1\n",
       " 3.1      1\n",
       " 4.4      1\n",
       " 5.6      1\n",
       " 6.2      1\n",
       "-0.7      1\n",
       "-1.1      1\n",
       "Name: Oldpeak, dtype: int64"
      ]
     },
     "execution_count": 6,
     "metadata": {},
     "output_type": "execute_result"
    }
   ],
   "source": [
    "#count of 'Oldpeak' values\n",
    "data['Oldpeak'].value_counts()"
   ]
  },
  {
   "cell_type": "code",
   "execution_count": 7,
   "id": "2f95c3dc",
   "metadata": {},
   "outputs": [
    {
     "data": {
      "text/plain": [
       "Flat    460\n",
       "Up      395\n",
       "Down     63\n",
       "Name: ST_Slope, dtype: int64"
      ]
     },
     "execution_count": 7,
     "metadata": {},
     "output_type": "execute_result"
    }
   ],
   "source": [
    "#count of 'ST_Slope' values\n",
    "data['ST_Slope'].value_counts()"
   ]
  },
  {
   "cell_type": "code",
   "execution_count": null,
   "id": "3e93c58e",
   "metadata": {},
   "outputs": [],
   "source": []
  }
 ],
 "metadata": {
  "kernelspec": {
   "display_name": "Python 3",
   "language": "python",
   "name": "python3"
  },
  "language_info": {
   "codemirror_mode": {
    "name": "ipython",
    "version": 3
   },
   "file_extension": ".py",
   "mimetype": "text/x-python",
   "name": "python",
   "nbconvert_exporter": "python",
   "pygments_lexer": "ipython3",
   "version": "3.8.8"
  }
 },
 "nbformat": 4,
 "nbformat_minor": 5
}
