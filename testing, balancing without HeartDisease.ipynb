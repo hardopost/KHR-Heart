{
 "cells": [
  {
   "cell_type": "markdown",
   "id": "fdf81b9c",
   "metadata": {},
   "source": [
    "## KHR Group Work"
   ]
  },
  {
   "cell_type": "markdown",
   "id": "9ecddf2d",
   "metadata": {},
   "source": [
    "### Data description\n",
    "<b>Chest pain type</b>: <br>\n",
    "<b>ATA</b> - Atypical angina - Angina pectoris which does not have associated classical symptoms of chest pain. Symptoms may include weakness, nausea, or sweating.<br>\n",
    "<br>\n",
    "<b>NAP</b> - Non-anginal pain - A chest pain is very likely nonanginal if its duration is over 30 minutes or less than 5 seconds, it increases with inspiration, can be brought on with one movement of the trunk or arm, can be brought on by local fingers pressure, or bending forward, or it can be relieved immediately on lying down.<br>\n",
    "<br>\n",
    "<b>ASY</b> - Asymtomatic - Silent (asymptomatic) myocardial ischemia (SMI) is defined as a transient alteration in myocardial perfusion in the absence of chest pain or the usual anginal equivalents.  <br>\n",
    "<br>\n",
    "<b>TA</b> - Typical angina - The most common symptom of a heart attack in both males and females is chest pain or discomfort and this can be described as tightness, pressure, squeezing or aching.<br>\n",
    "\n",
    "<b>RestingBP</b> - resting blood pressure [mm Hg].\n",
    "<img src=\"bp.jpg\" alt=\"Blood Pressure\" width=\"500\" height=\"600\"> <br>\n",
    "\n",
    "<b>Cholesterol</b> - serum cholesterol [mm/dl]. (mm/dl Mistake? should be mg/dL?) Measuring your LDL (“bad” cholesterol), HDL (“good” cholesterol), and triglycerides will give you a number called your total blood cholesterol, or serum cholesterol. Healthy serum cholesterol is less than 200 mg/dL. Serum cholesterol = HDL + LDL cholesterol levels + 20 percent of triglycerides.(source:https://www.healthline.com/health/serum-cholesterol) <br>\n",
    "<br>\n",
    "\n",
    "<b>FastingBS</b> - fasting blood sugar [1: if FastingBS > 120 mg/dl, 0: otherwise] <br>\n",
    "The expected values for normal fasting blood glucose concentration are between 70 mg/dL (3.9 mmol/L) and 100 mg/dL (5.6 mmol/L). When fasting blood glucose is between 100 to 125 mg/dL (5.6 to 6.9 mmol/L) changes in lifestyle and monitoring glycemia are recommended. If fasting blood glucose is 126 mg/dL (7 mmol/L) or higher on two separate tests, diabetes is diagnosed. An individual with low fasting blood glucose concentration (hypoglycemia) – below 70 mg/dL (3.9 mmol/L) – will experience dizziness, sweating, palpitations, blurred vision and other symptoms that have to be monitored. (source: https://www.who.int/data/gho/indicator-metadata-registry/imr-details/2380)<br>\n",
    "<br>\n",
    "\n",
    "<b>Resting ECG</b> - resting electrocardiogram results:<br>\n",
    "<b>Normal</b>: Normal, <br>\n",
    "<b>ST</b>: having ST-T wave abnormality (T wave inversions and/or ST elevation or depression of > 0.05 mV),<br>\n",
    "<b>LVH</b>: showing probable or definite left ventricular hypertrophy by Estes' criteria].<br>\n",
    "<br>\n",
    "\n",
    "<b>MaxHR</b> - maximum heart rate achieved [Numeric value between 60 and 202] <br>\n",
    "<br>\n",
    "<b>ExerciseAngina</b> - exercise-induced angina [Y: Yes, N: No] <br>\n",
    "<br>\n",
    "<b>Oldpeak</b> ST [Numeric value measured in depression] ST depression induced by exercise relative\n",
    "to rest. (Basicly a line in EKG doesn't come back to zero state, where it should come) (source: https://www.ijrte.org/wp-content/uploads/papers/v8i2S3/B11630782S319.pdf)\n",
    "\n",
    "<b>ST_Slope</b> - the slope of the peak exercise ST segment. (Basicly the shape of line in certain place in EKG). <br>\n",
    "<b>Up</b>: upsloping, <br>\n",
    "<b>Flat</b>: flat, <br>\n",
    "<b>Down</b>: downsloping. <br>\n",
    "<br>\n",
    "<b>HeartDisease</b>: output class [1: heart disease, 0: Normal]\n",
    "\n",
    "\n",
    "\n"
   ]
  },
  {
   "cell_type": "markdown",
   "id": "2376ef3e",
   "metadata": {},
   "source": [
    "## First look at data"
   ]
  },
  {
   "cell_type": "code",
   "execution_count": 1,
   "id": "47308103",
   "metadata": {},
   "outputs": [
    {
     "data": {
      "text/html": [
       "<div>\n",
       "<style scoped>\n",
       "    .dataframe tbody tr th:only-of-type {\n",
       "        vertical-align: middle;\n",
       "    }\n",
       "\n",
       "    .dataframe tbody tr th {\n",
       "        vertical-align: top;\n",
       "    }\n",
       "\n",
       "    .dataframe thead th {\n",
       "        text-align: right;\n",
       "    }\n",
       "</style>\n",
       "<table border=\"1\" class=\"dataframe\">\n",
       "  <thead>\n",
       "    <tr style=\"text-align: right;\">\n",
       "      <th></th>\n",
       "      <th>Age</th>\n",
       "      <th>Sex</th>\n",
       "      <th>ChestPainType</th>\n",
       "      <th>RestingBP</th>\n",
       "      <th>Cholesterol</th>\n",
       "      <th>FastingBS</th>\n",
       "      <th>RestingECG</th>\n",
       "      <th>MaxHR</th>\n",
       "      <th>ExerciseAngina</th>\n",
       "      <th>Oldpeak</th>\n",
       "      <th>ST_Slope</th>\n",
       "      <th>HeartDisease</th>\n",
       "    </tr>\n",
       "  </thead>\n",
       "  <tbody>\n",
       "    <tr>\n",
       "      <th>0</th>\n",
       "      <td>40</td>\n",
       "      <td>M</td>\n",
       "      <td>ATA</td>\n",
       "      <td>140</td>\n",
       "      <td>289</td>\n",
       "      <td>0</td>\n",
       "      <td>Normal</td>\n",
       "      <td>172</td>\n",
       "      <td>N</td>\n",
       "      <td>0.0</td>\n",
       "      <td>Up</td>\n",
       "      <td>0</td>\n",
       "    </tr>\n",
       "    <tr>\n",
       "      <th>1</th>\n",
       "      <td>49</td>\n",
       "      <td>F</td>\n",
       "      <td>NAP</td>\n",
       "      <td>160</td>\n",
       "      <td>180</td>\n",
       "      <td>0</td>\n",
       "      <td>Normal</td>\n",
       "      <td>156</td>\n",
       "      <td>N</td>\n",
       "      <td>1.0</td>\n",
       "      <td>Flat</td>\n",
       "      <td>1</td>\n",
       "    </tr>\n",
       "    <tr>\n",
       "      <th>2</th>\n",
       "      <td>37</td>\n",
       "      <td>M</td>\n",
       "      <td>ATA</td>\n",
       "      <td>130</td>\n",
       "      <td>283</td>\n",
       "      <td>0</td>\n",
       "      <td>ST</td>\n",
       "      <td>98</td>\n",
       "      <td>N</td>\n",
       "      <td>0.0</td>\n",
       "      <td>Up</td>\n",
       "      <td>0</td>\n",
       "    </tr>\n",
       "    <tr>\n",
       "      <th>3</th>\n",
       "      <td>48</td>\n",
       "      <td>F</td>\n",
       "      <td>ASY</td>\n",
       "      <td>138</td>\n",
       "      <td>214</td>\n",
       "      <td>0</td>\n",
       "      <td>Normal</td>\n",
       "      <td>108</td>\n",
       "      <td>Y</td>\n",
       "      <td>1.5</td>\n",
       "      <td>Flat</td>\n",
       "      <td>1</td>\n",
       "    </tr>\n",
       "    <tr>\n",
       "      <th>4</th>\n",
       "      <td>54</td>\n",
       "      <td>M</td>\n",
       "      <td>NAP</td>\n",
       "      <td>150</td>\n",
       "      <td>195</td>\n",
       "      <td>0</td>\n",
       "      <td>Normal</td>\n",
       "      <td>122</td>\n",
       "      <td>N</td>\n",
       "      <td>0.0</td>\n",
       "      <td>Up</td>\n",
       "      <td>0</td>\n",
       "    </tr>\n",
       "  </tbody>\n",
       "</table>\n",
       "</div>"
      ],
      "text/plain": [
       "   Age Sex ChestPainType  RestingBP  Cholesterol  FastingBS RestingECG  MaxHR  \\\n",
       "0   40   M           ATA        140          289          0     Normal    172   \n",
       "1   49   F           NAP        160          180          0     Normal    156   \n",
       "2   37   M           ATA        130          283          0         ST     98   \n",
       "3   48   F           ASY        138          214          0     Normal    108   \n",
       "4   54   M           NAP        150          195          0     Normal    122   \n",
       "\n",
       "  ExerciseAngina  Oldpeak ST_Slope  HeartDisease  \n",
       "0              N      0.0       Up             0  \n",
       "1              N      1.0     Flat             1  \n",
       "2              N      0.0       Up             0  \n",
       "3              Y      1.5     Flat             1  \n",
       "4              N      0.0       Up             0  "
      ]
     },
     "execution_count": 1,
     "metadata": {},
     "output_type": "execute_result"
    }
   ],
   "source": [
    "import pandas as pd\n",
    "data = pd.read_csv('heart.csv')\n",
    "data.shape\n",
    "data.head()"
   ]
  },
  {
   "cell_type": "markdown",
   "id": "6342a9a7",
   "metadata": {},
   "source": [
    "### Distribution of age into 5 bins and men and women separately into same 5 age bins"
   ]
  },
  {
   "cell_type": "code",
   "execution_count": 2,
   "id": "3deb7914",
   "metadata": {},
   "outputs": [
    {
     "name": "stdout",
     "output_type": "stream",
     "text": [
      "Minimum age 28\n",
      "Maximum age 77\n",
      "AxesSubplot(0.125,0.125;0.775x0.755)\n",
      "AxesSubplot(0.125,0.125;0.775x0.755)\n",
      "AxesSubplot(0.125,0.125;0.775x0.755)\n"
     ]
    },
    {
     "data": {
      "image/png": "[encoded data removed]",
      "text/plain": [
       "<Figure size 432x288 with 1 Axes>"
      ]
     },
     "metadata": {
      "needs_background": "light"
     },
     "output_type": "display_data"
    }
   ],
   "source": [
    "print(\"Minimum age\", data.Age.min())\n",
    "print(\"Maximum age\", data.Age.max())\n",
    "\n",
    "bins = [28, 38, 48, 58, 68, 78]\n",
    "\n",
    "#all data into bins\n",
    "print(data[('Age')].hist(bins=bins,color='blue'))\n",
    "\n",
    "#men and women separatewly into bins\n",
    "men = data[data['Sex'] == 'M']\n",
    "women = data[data['Sex'] == 'F']\n",
    "print(men[('Age')].hist(bins=bins,color='green'))\n",
    "print(women[('Age')].hist(bins=bins,color='yellow'))"
   ]
  },
  {
   "cell_type": "code",
   "execution_count": 3,
   "id": "78eb55be",
   "metadata": {},
   "outputs": [
    {
     "data": {
      "text/html": [
       "<div>\n",
       "<style scoped>\n",
       "    .dataframe tbody tr th:only-of-type {\n",
       "        vertical-align: middle;\n",
       "    }\n",
       "\n",
       "    .dataframe tbody tr th {\n",
       "        vertical-align: top;\n",
       "    }\n",
       "\n",
       "    .dataframe thead th {\n",
       "        text-align: right;\n",
       "    }\n",
       "</style>\n",
       "<table border=\"1\" class=\"dataframe\">\n",
       "  <thead>\n",
       "    <tr style=\"text-align: right;\">\n",
       "      <th></th>\n",
       "      <th>Age</th>\n",
       "      <th>Sex</th>\n",
       "      <th>ChestPainType</th>\n",
       "      <th>RestingBP</th>\n",
       "      <th>Cholesterol</th>\n",
       "      <th>FastingBS</th>\n",
       "      <th>RestingECG</th>\n",
       "      <th>MaxHR</th>\n",
       "      <th>ExerciseAngina</th>\n",
       "      <th>Oldpeak</th>\n",
       "      <th>ST_Slope</th>\n",
       "      <th>HeartDisease</th>\n",
       "    </tr>\n",
       "  </thead>\n",
       "  <tbody>\n",
       "    <tr>\n",
       "      <th>375</th>\n",
       "      <td>73</td>\n",
       "      <td>F</td>\n",
       "      <td>NAP</td>\n",
       "      <td>160</td>\n",
       "      <td>0</td>\n",
       "      <td>0</td>\n",
       "      <td>ST</td>\n",
       "      <td>121</td>\n",
       "      <td>N</td>\n",
       "      <td>0.0</td>\n",
       "      <td>Up</td>\n",
       "      <td>1</td>\n",
       "    </tr>\n",
       "    <tr>\n",
       "      <th>619</th>\n",
       "      <td>74</td>\n",
       "      <td>F</td>\n",
       "      <td>ATA</td>\n",
       "      <td>120</td>\n",
       "      <td>269</td>\n",
       "      <td>0</td>\n",
       "      <td>LVH</td>\n",
       "      <td>121</td>\n",
       "      <td>Y</td>\n",
       "      <td>0.2</td>\n",
       "      <td>Up</td>\n",
       "      <td>0</td>\n",
       "    </tr>\n",
       "    <tr>\n",
       "      <th>630</th>\n",
       "      <td>71</td>\n",
       "      <td>F</td>\n",
       "      <td>ASY</td>\n",
       "      <td>112</td>\n",
       "      <td>149</td>\n",
       "      <td>0</td>\n",
       "      <td>Normal</td>\n",
       "      <td>125</td>\n",
       "      <td>N</td>\n",
       "      <td>1.6</td>\n",
       "      <td>Flat</td>\n",
       "      <td>0</td>\n",
       "    </tr>\n",
       "    <tr>\n",
       "      <th>644</th>\n",
       "      <td>71</td>\n",
       "      <td>F</td>\n",
       "      <td>NAP</td>\n",
       "      <td>110</td>\n",
       "      <td>265</td>\n",
       "      <td>1</td>\n",
       "      <td>LVH</td>\n",
       "      <td>130</td>\n",
       "      <td>N</td>\n",
       "      <td>0.0</td>\n",
       "      <td>Up</td>\n",
       "      <td>0</td>\n",
       "    </tr>\n",
       "    <tr>\n",
       "      <th>688</th>\n",
       "      <td>76</td>\n",
       "      <td>F</td>\n",
       "      <td>NAP</td>\n",
       "      <td>140</td>\n",
       "      <td>197</td>\n",
       "      <td>0</td>\n",
       "      <td>ST</td>\n",
       "      <td>116</td>\n",
       "      <td>N</td>\n",
       "      <td>1.1</td>\n",
       "      <td>Flat</td>\n",
       "      <td>0</td>\n",
       "    </tr>\n",
       "    <tr>\n",
       "      <th>788</th>\n",
       "      <td>68</td>\n",
       "      <td>F</td>\n",
       "      <td>NAP</td>\n",
       "      <td>120</td>\n",
       "      <td>211</td>\n",
       "      <td>0</td>\n",
       "      <td>LVH</td>\n",
       "      <td>115</td>\n",
       "      <td>N</td>\n",
       "      <td>1.5</td>\n",
       "      <td>Flat</td>\n",
       "      <td>0</td>\n",
       "    </tr>\n",
       "    <tr>\n",
       "      <th>813</th>\n",
       "      <td>69</td>\n",
       "      <td>F</td>\n",
       "      <td>TA</td>\n",
       "      <td>140</td>\n",
       "      <td>239</td>\n",
       "      <td>0</td>\n",
       "      <td>Normal</td>\n",
       "      <td>151</td>\n",
       "      <td>N</td>\n",
       "      <td>1.8</td>\n",
       "      <td>Up</td>\n",
       "      <td>0</td>\n",
       "    </tr>\n",
       "    <tr>\n",
       "      <th>870</th>\n",
       "      <td>71</td>\n",
       "      <td>F</td>\n",
       "      <td>ATA</td>\n",
       "      <td>160</td>\n",
       "      <td>302</td>\n",
       "      <td>0</td>\n",
       "      <td>Normal</td>\n",
       "      <td>162</td>\n",
       "      <td>N</td>\n",
       "      <td>0.4</td>\n",
       "      <td>Up</td>\n",
       "      <td>0</td>\n",
       "    </tr>\n",
       "  </tbody>\n",
       "</table>\n",
       "</div>"
      ],
      "text/plain": [
       "     Age Sex ChestPainType  RestingBP  Cholesterol  FastingBS RestingECG  \\\n",
       "375   73   F           NAP        160            0          0         ST   \n",
       "619   74   F           ATA        120          269          0        LVH   \n",
       "630   71   F           ASY        112          149          0     Normal   \n",
       "644   71   F           NAP        110          265          1        LVH   \n",
       "688   76   F           NAP        140          197          0         ST   \n",
       "788   68   F           NAP        120          211          0        LVH   \n",
       "813   69   F            TA        140          239          0     Normal   \n",
       "870   71   F           ATA        160          302          0     Normal   \n",
       "\n",
       "     MaxHR ExerciseAngina  Oldpeak ST_Slope  HeartDisease  \n",
       "375    121              N      0.0       Up             1  \n",
       "619    121              Y      0.2       Up             0  \n",
       "630    125              N      1.6     Flat             0  \n",
       "644    130              N      0.0       Up             0  \n",
       "688    116              N      1.1     Flat             0  \n",
       "788    115              N      1.5     Flat             0  \n",
       "813    151              N      1.8       Up             0  \n",
       "870    162              N      0.4       Up             0  "
      ]
     },
     "execution_count": 3,
     "metadata": {},
     "output_type": "execute_result"
    }
   ],
   "source": [
    "# women in age bin of 68-78, only 8 instances and olny one with heart failure. If that instance happens not to be in \n",
    "# training set, then can't predict that.\n",
    "women_68_78 = women[women['Age'] > 67]\n",
    "women_68_78.head(10)"
   ]
  },
  {
   "cell_type": "markdown",
   "id": "1b10aa2c",
   "metadata": {},
   "source": [
    "### Counts of features values"
   ]
  },
  {
   "cell_type": "code",
   "execution_count": 4,
   "id": "942ceeec",
   "metadata": {},
   "outputs": [
    {
     "data": {
      "text/plain": [
       "ASY    496\n",
       "NAP    203\n",
       "ATA    173\n",
       "TA      46\n",
       "Name: ChestPainType, dtype: int64"
      ]
     },
     "execution_count": 4,
     "metadata": {},
     "output_type": "execute_result"
    }
   ],
   "source": [
    "#count of ChestPainType type values\n",
    "data['ChestPainType'].value_counts()"
   ]
  },
  {
   "cell_type": "code",
   "execution_count": 5,
   "id": "78ba3ddd",
   "metadata": {},
   "outputs": [
    {
     "data": {
      "text/plain": [
       "0    704\n",
       "1    214\n",
       "Name: FastingBS, dtype: int64"
      ]
     },
     "execution_count": 5,
     "metadata": {},
     "output_type": "execute_result"
    }
   ],
   "source": [
    "#count of 'FastingBS' values\n",
    "data['FastingBS'].value_counts()"
   ]
  },
  {
   "cell_type": "code",
   "execution_count": 6,
   "id": "144122a4",
   "metadata": {},
   "outputs": [
    {
     "data": {
      "text/plain": [
       "N    547\n",
       "Y    371\n",
       "Name: ExerciseAngina, dtype: int64"
      ]
     },
     "execution_count": 6,
     "metadata": {},
     "output_type": "execute_result"
    }
   ],
   "source": [
    "#count of 'ExerciseAngina' yes, no values\n",
    "data['ExerciseAngina'].value_counts()"
   ]
  },
  {
   "cell_type": "code",
   "execution_count": 7,
   "id": "1555da9d",
   "metadata": {},
   "outputs": [
    {
     "data": {
      "text/plain": [
       " 0.0    368\n",
       " 1.0     86\n",
       " 2.0     76\n",
       " 1.5     53\n",
       " 3.0     28\n",
       " 1.2     26\n",
       " 0.2     22\n",
       " 0.5     19\n",
       " 1.4     18\n",
       " 1.8     17\n",
       " 2.5     16\n",
       " 0.8     16\n",
       " 1.6     16\n",
       " 0.1     14\n",
       " 0.6     14\n",
       " 0.4     11\n",
       " 0.3     11\n",
       " 4.0      8\n",
       " 0.7      7\n",
       " 2.8      7\n",
       " 1.3      7\n",
       " 2.6      7\n",
       " 1.1      7\n",
       " 1.9      7\n",
       " 1.7      6\n",
       " 2.2      5\n",
       " 0.9      4\n",
       " 3.6      4\n",
       " 2.4      4\n",
       " 3.4      3\n",
       " 2.1      2\n",
       "-0.1      2\n",
       " 4.2      2\n",
       " 3.2      2\n",
       " 3.5      2\n",
       "-0.5      2\n",
       " 2.3      2\n",
       "-1.0      2\n",
       " 2.9      1\n",
       " 3.8      1\n",
       "-0.9      1\n",
       "-2.6      1\n",
       "-1.5      1\n",
       " 3.7      1\n",
       " 5.0      1\n",
       "-2.0      1\n",
       "-0.8      1\n",
       " 3.1      1\n",
       " 4.4      1\n",
       " 5.6      1\n",
       " 6.2      1\n",
       "-0.7      1\n",
       "-1.1      1\n",
       "Name: Oldpeak, dtype: int64"
      ]
     },
     "execution_count": 7,
     "metadata": {},
     "output_type": "execute_result"
    }
   ],
   "source": [
    "#count of 'Oldpeak' values\n",
    "data['Oldpeak'].value_counts()"
   ]
  },
  {
   "cell_type": "code",
   "execution_count": 8,
   "id": "2f95c3dc",
   "metadata": {
    "scrolled": false
   },
   "outputs": [
    {
     "data": {
      "text/plain": [
       "Flat    460\n",
       "Up      395\n",
       "Down     63\n",
       "Name: ST_Slope, dtype: int64"
      ]
     },
     "execution_count": 8,
     "metadata": {},
     "output_type": "execute_result"
    }
   ],
   "source": [
    "#count of 'ST_Slope' values\n",
    "data['ST_Slope'].value_counts()"
   ]
  },
  {
   "cell_type": "code",
   "execution_count": 9,
   "id": "a075d7b9",
   "metadata": {},
   "outputs": [
    {
     "name": "stdout",
     "output_type": "stream",
     "text": [
      "918\n",
      "734\n"
     ]
    }
   ],
   "source": [
    "#20% of the dataset will be set aside for testing in the end\n",
    "print(len(data)) #20% is ~184\n",
    "from sklearn.model_selection import train_test_split\n",
    "train, test = train_test_split(data, test_size=0.2, random_state=0)\n",
    "data = train\n",
    "endTestData = test\n",
    "print(len(data))"
   ]
  },
  {
   "cell_type": "code",
   "execution_count": 10,
   "id": "421f2577",
   "metadata": {},
   "outputs": [],
   "source": [
    "#Data to be manipulated\n",
    "newData = data"
   ]
  },
  {
   "cell_type": "code",
   "execution_count": 11,
   "id": "2b839330",
   "metadata": {
    "scrolled": false
   },
   "outputs": [
    {
     "name": "stdout",
     "output_type": "stream",
     "text": [
      "30\n",
      "114\n",
      "216\n",
      "183\n",
      "36\n",
      "--------------------\n",
      "7\n",
      "33\n",
      "66\n",
      "42\n",
      "7\n",
      "------------------------------------------------------------------------------------------\n",
      "216\n",
      "216\n",
      "216\n",
      "216\n",
      "216\n",
      "--------------------\n",
      "216\n",
      "216\n",
      "216\n",
      "216\n",
      "216\n"
     ]
    }
   ],
   "source": [
    "#All possible groups based on age, sex\n",
    "patients28_38_M = newData[(newData[\"Age\"]>=28) & (newData[\"Age\"]<38) & (newData[\"Sex\"]==\"M\")] #Age 28-38, Male\n",
    "patients38_48_M = newData[(newData[\"Age\"]>=38) & (newData[\"Age\"]<48) & (newData[\"Sex\"]==\"M\")]\n",
    "patients48_58_M = newData[(newData[\"Age\"]>=48) & (newData[\"Age\"]<58) & (newData[\"Sex\"]==\"M\")]\n",
    "patients58_68_M = newData[(newData[\"Age\"]>=58) & (newData[\"Age\"]<68) & (newData[\"Sex\"]==\"M\")]\n",
    "patients68_78_M = newData[(newData[\"Age\"]>=68) & (newData[\"Sex\"]==\"M\")]\n",
    "\n",
    "\n",
    "patients28_38_F = newData[(newData[\"Age\"]>=28) & (newData[\"Age\"]<38) & (newData[\"Sex\"]==\"F\")]\n",
    "patients38_48_F = newData[(newData[\"Age\"]>=38) & (newData[\"Age\"]<48) & (newData[\"Sex\"]==\"F\")]\n",
    "patients48_58_F = newData[(newData[\"Age\"]>=48) & (newData[\"Age\"]<58) & (newData[\"Sex\"]==\"F\")]\n",
    "patients58_68_F = newData[(newData[\"Age\"]>=58) & (newData[\"Age\"]<68) & (newData[\"Sex\"]==\"F\")]\n",
    "patients68_78_F = newData[(newData[\"Age\"]>=68) & (newData[\"Sex\"]==\"F\")]\n",
    "\n",
    "\n",
    "print(len(patients28_38_M))\n",
    "print(len(patients38_48_M))\n",
    "print(len(patients48_58_M))\n",
    "print(len(patients58_68_M))\n",
    "print(len(patients68_78_M))\n",
    "print(\"--------------------\")\n",
    "print(len(patients28_38_F))\n",
    "print(len(patients38_48_F))\n",
    "print(len(patients48_58_F))\n",
    "print(len(patients58_68_F))\n",
    "print(len(patients68_78_F))\n",
    "\n",
    "#patients48_58_M has the most patients\n",
    "#Oversample the other groups to match this number\n",
    "patients =len(patients48_58_M)\n",
    "newData = newData.append(patients28_38_M.sample(n=patients-len(patients28_38_M), replace=True))\n",
    "newData = newData.append(patients38_48_M.sample(n=patients-len(patients38_48_M), replace=True))\n",
    "newData = newData.append(patients58_68_M.sample(n=patients-len(patients58_68_M), replace=True))\n",
    "newData = newData.append(patients68_78_M.sample(n=patients-len(patients68_78_M), replace=True))\n",
    "\n",
    "newData = newData.append(patients28_38_F.sample(n=patients-len(patients28_38_F), replace=True))\n",
    "newData = newData.append(patients38_48_F.sample(n=patients-len(patients38_48_F), replace=True))\n",
    "newData = newData.append(patients48_58_F.sample(n=patients-len(patients48_58_F), replace=True))\n",
    "newData = newData.append(patients58_68_F.sample(n=patients-len(patients58_68_F), replace=True))\n",
    "newData = newData.append(patients68_78_F.sample(n=patients-len(patients68_78_F), replace=True))\n",
    "\n",
    "\n",
    "print(\"------------------------------------------------------------------------------------------\")\n",
    "#Let's check if it worked\n",
    "patients28_38_M = newData[(newData[\"Age\"]>=28) & (newData[\"Age\"]<38) & (newData[\"Sex\"]==\"M\")] #Age 28-38, Male\n",
    "patients38_48_M = newData[(newData[\"Age\"]>=38) & (newData[\"Age\"]<48) & (newData[\"Sex\"]==\"M\")]\n",
    "patients48_58_M = newData[(newData[\"Age\"]>=48) & (newData[\"Age\"]<58) & (newData[\"Sex\"]==\"M\")]\n",
    "patients58_68_M = newData[(newData[\"Age\"]>=58) & (newData[\"Age\"]<68) & (newData[\"Sex\"]==\"M\")]\n",
    "patients68_78_M = newData[(newData[\"Age\"]>=68) & (newData[\"Sex\"]==\"M\")]\n",
    "\n",
    "\n",
    "patients28_38_F = newData[(newData[\"Age\"]>=28) & (newData[\"Age\"]<38) & (newData[\"Sex\"]==\"F\")]\n",
    "patients38_48_F = newData[(newData[\"Age\"]>=38) & (newData[\"Age\"]<48) & (newData[\"Sex\"]==\"F\")]\n",
    "patients48_58_F = newData[(newData[\"Age\"]>=48) & (newData[\"Age\"]<58) & (newData[\"Sex\"]==\"F\")]\n",
    "patients58_68_F = newData[(newData[\"Age\"]>=58) & (newData[\"Age\"]<68) & (newData[\"Sex\"]==\"F\")]\n",
    "patients68_78_F = newData[(newData[\"Age\"]>=68) & (newData[\"Sex\"]==\"F\")]\n",
    "\n",
    "\n",
    "print(len(patients28_38_M))\n",
    "print(len(patients38_48_M))\n",
    "print(len(patients48_58_M))\n",
    "print(len(patients58_68_M))\n",
    "print(len(patients68_78_M))\n",
    "print(\"--------------------\")\n",
    "print(len(patients28_38_F))\n",
    "print(len(patients38_48_F))\n",
    "print(len(patients48_58_F))\n",
    "print(len(patients58_68_F))\n",
    "print(len(patients68_78_F))"
   ]
  },
  {
   "cell_type": "code",
   "execution_count": 12,
   "id": "1fce85bc",
   "metadata": {},
   "outputs": [
    {
     "name": "stdout",
     "output_type": "stream",
     "text": [
      "Number of patients in this group = 216\n",
      "Number of patients in this group with heart disease:31\n"
     ]
    }
   ],
   "source": [
    "#Now let's look at that problematic group (women in age bin of 68-78, only 8 instances and only one with heart failure)\n",
    "women_68_78 = newData[(newData[\"Age\"]>=68) & (newData[\"Sex\"]==\"F\")]\n",
    "print(\"Number of patients in this group = \"+str(len(women_68_78)))\n",
    "print(\"Number of patients in this group with heart disease:\" +str(len(women_68_78[women_68_78[\"HeartDisease\"]==1])))\n",
    "#A lot better than before\n"
   ]
  },
  {
   "cell_type": "code",
   "execution_count": 13,
   "id": "021d7f7c",
   "metadata": {},
   "outputs": [],
   "source": [
    "#20% of the dataset will be set aside for testing in the end\n",
    "#print(len(newData)) #20% is 544\n",
    "#endTestSet = newData.sample(n=544, random_state=0)\n",
    "#for i in range(len(newData)):\n",
    "#    for j in range(len(endTestSet)):\n",
    "#        if newData.iloc[i].equals(endTestSet.iloc[j]):\n",
    "#            newData.drop(i)\n",
    "#print(len(newData))"
   ]
  },
  {
   "cell_type": "code",
   "execution_count": 14,
   "id": "3e93c58e",
   "metadata": {
    "scrolled": false
   },
   "outputs": [],
   "source": [
    "#Balancing data by number of patients with heart disease and without\n",
    "#print(newData['HeartDisease'].value_counts())\n",
    "#There are more patients without heart disease than with\n",
    "#withoutHeartDisease = data[data[\"HeartDisease\"]==0]\n",
    "\n",
    "#Pick a random sample from withoutHeartDisease with n=data['HeartDisease'].value_counts()[1]-data['HeartDisease'].value_counts()[0]  \n",
    "#and add it to newData\n",
    "#sample = withoutHeartDisease.sample(n=newData['HeartDisease'].value_counts()[1]-newData['HeartDisease'].value_counts()[0])\n",
    "#newData = newData.append(sample)\n",
    "#print(newData['HeartDisease'].value_counts())\n",
    "\n"
   ]
  },
  {
   "cell_type": "code",
   "execution_count": 15,
   "id": "bd10bf1b",
   "metadata": {},
   "outputs": [],
   "source": [
    "#Balancing data by Sex\n",
    "#print(newData['Sex'].value_counts())\n",
    "#A lot more Males compared to Females\n",
    "#Generate more Female data\n",
    "#FemaleData = newData[newData[\"Sex\"]==\"F\"]\n",
    "#sample = FemaleData.sample(n=newData['Sex'].value_counts()[\"M\"]-newData['Sex'].value_counts()[\"F\"], replace=True)\n",
    "#newData = newData.append(sample)\n",
    "#print(newData['Sex'].value_counts())\n"
   ]
  },
  {
   "cell_type": "code",
   "execution_count": 16,
   "id": "015a3f42",
   "metadata": {
    "scrolled": true
   },
   "outputs": [],
   "source": [
    "#Balancing the age groups\n",
    "#patients28_38 = newData[(newData[\"Age\"]>=28) & (newData[\"Age\"]<38)]\n",
    "#patients38_48 = newData[(newData[\"Age\"]>=38) & (newData[\"Age\"]<48)]\n",
    "#patients48_58 = newData[(newData[\"Age\"]>=48) & (newData[\"Age\"]<58)]\n",
    "#patients58_68 = newData[(newData[\"Age\"]>=58) & (newData[\"Age\"]<68)]\n",
    "#patients68_78 = newData[newData[\"Age\"]>=68]\n",
    "#print(len(patients28_38))\n",
    "#print(len(patients38_48))\n",
    "#print(len(patients48_58))\n",
    "#print(len(patients58_68))\n",
    "#print(len(patients68_78))\n",
    "#print(\" \")\n",
    "#Generate patients in the smaller groups to match the group with the most patients (48-58)\n",
    "#patients28_38 = patients28_38.append(patients28_38.sample(n=len(patients48_58)-len(patients28_38), replace=True))\n",
    "#patients38_48 = patients38_48.append(patients38_48.sample(n=len(patients48_58)-len(patients38_48), replace=True))\n",
    "#patients58_68 = patients58_68.append(patients58_68.sample(n=len(patients48_58)-len(patients58_68), replace=True))\n",
    "#patients68_78 = patients68_78.append(patients68_78.sample(n=len(patients48_58)-len(patients68_78), replace=True))\n",
    "#print(len(patients28_38))\n",
    "#print(len(patients38_48))\n",
    "#print(len(patients48_58))\n",
    "#print(len(patients58_68))\n",
    "#print(len(patients68_78))"
   ]
  },
  {
   "cell_type": "code",
   "execution_count": 17,
   "id": "1ded30fd",
   "metadata": {},
   "outputs": [],
   "source": [
    "#Now let's take a look at the data\n",
    "#print(\"Patients aged 28_38 -> \"+ str(len(newData[(newData[\"Age\"]>=28) & (newData[\"Age\"]<38)])))\n",
    "#print(\"Patients aged 38_48 -> \"+ str(len(newData[(newData[\"Age\"]>=38) & (newData[\"Age\"]<48)])))\n",
    "#print(\"Patients aged 48_58 -> \"+ str(len(newData[(newData[\"Age\"]>=48) & (newData[\"Age\"]<58)])))\n",
    "#print(\"Patients aged 58_68 -> \"+ str(len(newData[(newData[\"Age\"]>=58) & (newData[\"Age\"]<68)])))\n",
    "#print(\"Patients aged 68_78 -> \"+ str(len(newData[newData[\"Age\"]>=68])))\n",
    "\n",
    "#print(\"Number of patients by sex:\")\n",
    "#print(newData['Sex'].value_counts())\n",
    "\n",
    "#print(\"Number of patients by whether they have heart disease or not:\")\n",
    "#print(newData['HeartDisease'].value_counts())"
   ]
  },
  {
   "cell_type": "code",
   "execution_count": 18,
   "id": "d4c36fc8",
   "metadata": {},
   "outputs": [
    {
     "name": "stdout",
     "output_type": "stream",
     "text": [
      "     Age  RestingBP  Cholesterol  FastingBS  MaxHR  Oldpeak  HeartDisease  \\\n",
      "378   70        140            0          1    157      2.0             1   \n",
      "356   46        115            0          0    113      1.5             1   \n",
      "738   65        160          360          0    151      0.8             0   \n",
      "85    66        140          139          0     94      1.0             1   \n",
      "427   59        140            0          0    117      1.0             1   \n",
      "..   ...        ...          ...        ...    ...      ...           ...   \n",
      "813   69        140          239          0    151      1.8             0   \n",
      "619   74        120          269          0    121      0.2             0   \n",
      "870   71        160          302          0    162      0.4             0   \n",
      "788   68        120          211          0    115      1.5             0   \n",
      "619   74        120          269          0    121      0.2             0   \n",
      "\n",
      "     Sex_F  Sex_M  ChestPainType_ASY  ...  ChestPainType_NAP  \\\n",
      "378      0      1                  1  ...                  0   \n",
      "356      0      1                  1  ...                  0   \n",
      "738      1      0                  0  ...                  1   \n",
      "85       0      1                  1  ...                  0   \n",
      "427      0      1                  1  ...                  0   \n",
      "..     ...    ...                ...  ...                ...   \n",
      "813      1      0                  0  ...                  0   \n",
      "619      1      0                  0  ...                  0   \n",
      "870      1      0                  0  ...                  0   \n",
      "788      1      0                  0  ...                  1   \n",
      "619      1      0                  0  ...                  0   \n",
      "\n",
      "     ChestPainType_TA  RestingECG_LVH  RestingECG_Normal  RestingECG_ST  \\\n",
      "378                 0               0                  1              0   \n",
      "356                 0               0                  1              0   \n",
      "738                 0               1                  0              0   \n",
      "85                  0               0                  1              0   \n",
      "427                 0               0                  0              1   \n",
      "..                ...             ...                ...            ...   \n",
      "813                 1               0                  1              0   \n",
      "619                 0               1                  0              0   \n",
      "870                 0               0                  1              0   \n",
      "788                 0               1                  0              0   \n",
      "619                 0               1                  0              0   \n",
      "\n",
      "     ExerciseAngina_N  ExerciseAngina_Y  ST_Slope_Down  ST_Slope_Flat  \\\n",
      "378                 0                 1              0              1   \n",
      "356                 0                 1              0              1   \n",
      "738                 1                 0              0              0   \n",
      "85                  0                 1              0              1   \n",
      "427                 0                 1              0              1   \n",
      "..                ...               ...            ...            ...   \n",
      "813                 1                 0              0              0   \n",
      "619                 0                 1              0              0   \n",
      "870                 1                 0              0              0   \n",
      "788                 1                 0              0              1   \n",
      "619                 0                 1              0              0   \n",
      "\n",
      "     ST_Slope_Up  \n",
      "378            0  \n",
      "356            0  \n",
      "738            1  \n",
      "85             0  \n",
      "427            0  \n",
      "..           ...  \n",
      "813            1  \n",
      "619            1  \n",
      "870            1  \n",
      "788            0  \n",
      "619            1  \n",
      "\n",
      "[2160 rows x 21 columns]\n"
     ]
    }
   ],
   "source": [
    "#One hot encoding\n",
    "data = pd.get_dummies(newData)\n",
    "print(data)"
   ]
  },
  {
   "cell_type": "code",
   "execution_count": 19,
   "id": "60b9b622",
   "metadata": {},
   "outputs": [],
   "source": [
    "from sklearn.model_selection import train_test_split\n",
    "X_train, X_test, y_train, y_test = train_test_split(data.loc[:, data.columns != 'HeartDisease'], data[\"HeartDisease\"], test_size=0.3, random_state=0)\n"
   ]
  },
  {
   "cell_type": "code",
   "execution_count": 20,
   "id": "86a3c731",
   "metadata": {
    "scrolled": true
   },
   "outputs": [
    {
     "name": "stdout",
     "output_type": "stream",
     "text": [
      "    model  accuracy\n",
      "0  1-NN-E   0.92284\n"
     ]
    }
   ],
   "source": [
    "#Training a K nearest neighbors classifier with Euclidean distance and N=1\n",
    "from sklearn.metrics import accuracy_score\n",
    "models = pd.DataFrame(columns=['model', 'accuracy'])\n",
    "from sklearn.neighbors import KNeighborsClassifier\n",
    "model1 = KNeighborsClassifier(n_neighbors = 1)\n",
    "model1.fit(X_train, y_train)\n",
    "acc = accuracy_score(y_test, model1.predict(X_test))\n",
    "models = models.append({'model': \"1-NN-E\", 'accuracy': acc }, ignore_index=True) #E for Euclidean distance\n",
    "print(models)"
   ]
  },
  {
   "cell_type": "code",
   "execution_count": 21,
   "id": "12583338",
   "metadata": {
    "scrolled": false
   },
   "outputs": [
    {
     "name": "stdout",
     "output_type": "stream",
     "text": [
      "                                    model  accuracy\n",
      "0                                  1-NN-E  0.922840\n",
      "1                           Decision tree  0.947531\n",
      "2   Random forest with n_estimators = 100  0.961420\n",
      "3  Random forest with n_estimators = 1000  0.964506\n"
     ]
    }
   ],
   "source": [
    "#Let's train some other models\n",
    "\n",
    "#Decision tree\n",
    "from sklearn.tree import DecisionTreeClassifier\n",
    "model2 = DecisionTreeClassifier(random_state=0)\n",
    "model2.fit(X_train, y_train)\n",
    "acc = accuracy_score(y_test, model2.predict(X_test))\n",
    "models = models.append({'model': \"Decision tree\", 'accuracy': acc }, ignore_index=True)\n",
    "\n",
    "\n",
    "#Random forest with n_estimators = 100\n",
    "from sklearn.ensemble import RandomForestClassifier\n",
    "model3 = RandomForestClassifier(random_state=0)\n",
    "model3.fit(X_train, y_train)\n",
    "acc = accuracy_score(y_test, model3.predict(X_test))\n",
    "models = models.append({'model': \"Random forest with n_estimators = 100\", 'accuracy': acc }, ignore_index=True)\n",
    "\n",
    "\n",
    "#Random forest with n_estimators = 1000\n",
    "from sklearn.ensemble import RandomForestClassifier\n",
    "model4 = RandomForestClassifier(n_estimators = 1000, random_state=0)\n",
    "model4.fit(X_train, y_train)\n",
    "acc = accuracy_score(y_test, model4.predict(X_test))\n",
    "models = models.append({'model': \"Random forest with n_estimators = 1000\", 'accuracy': acc }, ignore_index=True)\n",
    "print(models)\n",
    "#Random forest with n_estimators = 1000 is pretty good, let's get rid of the rest and train a new model for every group based on age and sex\n",
    "models = pd.DataFrame(columns=['model', 'accuracy'])\n",
    "models = models.append({'model': \"All patients\", 'accuracy': acc }, ignore_index=True)\n"
   ]
  },
  {
   "cell_type": "code",
   "execution_count": 22,
   "id": "2b9d4a9b",
   "metadata": {},
   "outputs": [
    {
     "name": "stdout",
     "output_type": "stream",
     "text": [
      "                    model  accuracy\n",
      "0            All patients  0.964506\n",
      "1   patients28_38_M_model  1.000000\n",
      "2   patients38_48_M_model  0.892308\n",
      "3   patients48_58_M_model  0.830769\n",
      "4   patients58_68_M_model  0.861538\n",
      "5   patients68_78_M_model  1.000000\n",
      "6   patients28_38_F_model  1.000000\n",
      "7   patients38_48_F_model  1.000000\n",
      "8   patients48_58_F_model  1.000000\n",
      "9   patients58_68_F_model  1.000000\n",
      "10  patients68_78_F_model  1.000000\n"
     ]
    }
   ],
   "source": [
    "patients28_38_M = newData[(newData[\"Age\"]>=28) & (newData[\"Age\"]<38) & (newData[\"Sex\"]==\"M\")]\n",
    "patients28_38_M = pd.get_dummies(patients28_38_M)\n",
    "X_train, X_test, y_train, y_test = train_test_split(patients28_38_M.loc[:, patients28_38_M.columns != 'HeartDisease'], patients28_38_M[\"HeartDisease\"], test_size=0.3, random_state=0)\n",
    "patients28_38_M_model = RandomForestClassifier(n_estimators = 1000, random_state=0)\n",
    "patients28_38_M_model.fit(X_train, y_train)\n",
    "acc = accuracy_score(y_test, patients28_38_M_model.predict(X_test))\n",
    "models = models.append({'model': \"patients28_38_M_model\", 'accuracy': acc }, ignore_index=True)\n",
    "\n",
    "patients38_48_M = newData[(newData[\"Age\"]>=38) & (newData[\"Age\"]<48) & (newData[\"Sex\"]==\"M\")]\n",
    "patients38_48_M = pd.get_dummies(patients38_48_M)\n",
    "X_train, X_test, y_train, y_test = train_test_split(patients38_48_M.loc[:, patients38_48_M.columns != 'HeartDisease'], patients38_48_M[\"HeartDisease\"], test_size=0.3, random_state=0)\n",
    "patients38_48_M_model = RandomForestClassifier(n_estimators = 1000, random_state=0)\n",
    "patients38_48_M_model.fit(X_train, y_train)\n",
    "acc = accuracy_score(y_test, patients38_48_M_model.predict(X_test))\n",
    "models = models.append({'model': \"patients38_48_M_model\", 'accuracy': acc }, ignore_index=True)\n",
    "\n",
    "patients48_58_M = newData[(newData[\"Age\"]>=48) & (newData[\"Age\"]<58) & (newData[\"Sex\"]==\"M\")]\n",
    "patients48_58_M = pd.get_dummies(patients48_58_M)\n",
    "X_train, X_test, y_train, y_test = train_test_split(patients48_58_M.loc[:, patients48_58_M.columns != 'HeartDisease'], patients48_58_M[\"HeartDisease\"], test_size=0.3, random_state=0)\n",
    "patients48_58_M_model = RandomForestClassifier(n_estimators = 1000, random_state=0)\n",
    "patients48_58_M_model.fit(X_train, y_train)\n",
    "acc = accuracy_score(y_test, patients48_58_M_model.predict(X_test))\n",
    "models = models.append({'model': \"patients48_58_M_model\", 'accuracy': acc }, ignore_index=True)\n",
    "\n",
    "patients58_68_M = newData[(newData[\"Age\"]>=58) & (newData[\"Age\"]<68) & (newData[\"Sex\"]==\"M\")]\n",
    "patients58_68_M = pd.get_dummies(patients58_68_M)\n",
    "X_train, X_test, y_train, y_test = train_test_split(patients58_68_M.loc[:, patients58_68_M.columns != 'HeartDisease'], patients58_68_M[\"HeartDisease\"], test_size=0.3, random_state=0)\n",
    "patients58_68_M_model = RandomForestClassifier(n_estimators = 1000, random_state=0)\n",
    "patients58_68_M_model.fit(X_train, y_train)\n",
    "acc = accuracy_score(y_test, patients58_68_M_model.predict(X_test))\n",
    "models = models.append({'model': \"patients58_68_M_model\", 'accuracy': acc }, ignore_index=True)\n",
    "\n",
    "patients68_78_M = newData[(newData[\"Age\"]>=68) & (newData[\"Sex\"]==\"M\")]\n",
    "patients68_78_M = pd.get_dummies(patients68_78_M)\n",
    "X_train, X_test, y_train, y_test = train_test_split(patients68_78_M.loc[:, patients68_78_M.columns != 'HeartDisease'], patients68_78_M[\"HeartDisease\"], test_size=0.3, random_state=0)\n",
    "patients68_78_M_model = RandomForestClassifier(n_estimators = 1000, random_state=0)\n",
    "patients68_78_M_model.fit(X_train, y_train)\n",
    "acc = accuracy_score(y_test, patients68_78_M_model.predict(X_test))\n",
    "models = models.append({'model': \"patients68_78_M_model\", 'accuracy': acc }, ignore_index=True)\n",
    "\n",
    "\n",
    "\n",
    "patients28_38_F = newData[(newData[\"Age\"]>=28) & (newData[\"Age\"]<38) & (newData[\"Sex\"]==\"F\")]\n",
    "patients28_38_F = pd.get_dummies(patients28_38_F)\n",
    "X_train, X_test, y_train, y_test = train_test_split(patients28_38_F.loc[:, patients28_38_F.columns != 'HeartDisease'], patients28_38_F[\"HeartDisease\"], test_size=0.3, random_state=0)\n",
    "patients28_38_F_model = RandomForestClassifier(n_estimators = 1000, random_state=0)\n",
    "patients28_38_F_model.fit(X_train, y_train)\n",
    "acc = accuracy_score(y_test, patients28_38_F_model.predict(X_test))\n",
    "models = models.append({'model': \"patients28_38_F_model\", 'accuracy': acc }, ignore_index=True)\n",
    "\n",
    "patients38_48_F = newData[(newData[\"Age\"]>=38) & (newData[\"Age\"]<48) & (newData[\"Sex\"]==\"F\")]\n",
    "patients38_48_F = pd.get_dummies(patients38_48_F)\n",
    "X_train, X_test, y_train, y_test = train_test_split(patients38_48_F.loc[:, patients38_48_F.columns != 'HeartDisease'], patients38_48_F[\"HeartDisease\"], test_size=0.3, random_state=0)\n",
    "patients38_48_F_model = RandomForestClassifier(n_estimators = 1000, random_state=0)\n",
    "patients38_48_F_model.fit(X_train, y_train)\n",
    "acc = accuracy_score(y_test, patients38_48_F_model.predict(X_test))\n",
    "models = models.append({'model': \"patients38_48_F_model\", 'accuracy': acc }, ignore_index=True)\n",
    "\n",
    "patients48_58_F = newData[(newData[\"Age\"]>=48) & (newData[\"Age\"]<58) & (newData[\"Sex\"]==\"F\")]\n",
    "patients48_58_F = pd.get_dummies(patients48_58_F)\n",
    "X_train, X_test, y_train, y_test = train_test_split(patients48_58_F.loc[:, patients48_58_F.columns != 'HeartDisease'], patients48_58_F[\"HeartDisease\"], test_size=0.3, random_state=0)\n",
    "patients48_58_F_model = RandomForestClassifier(n_estimators = 1000, random_state=0)\n",
    "patients48_58_F_model.fit(X_train, y_train)\n",
    "acc = accuracy_score(y_test, patients48_58_F_model.predict(X_test))\n",
    "models = models.append({'model': \"patients48_58_F_model\", 'accuracy': acc }, ignore_index=True)\n",
    "\n",
    "patients58_68_F = newData[(newData[\"Age\"]>=58) & (newData[\"Age\"]<68) & (newData[\"Sex\"]==\"F\")]\n",
    "patients58_68_F = pd.get_dummies(patients58_68_F)\n",
    "X_train, X_test, y_train, y_test = train_test_split(patients58_68_F.loc[:, patients58_68_F.columns != 'HeartDisease'], patients58_68_F[\"HeartDisease\"], test_size=0.3, random_state=0)\n",
    "patients58_68_F_model = RandomForestClassifier(n_estimators = 1000, random_state=0)\n",
    "patients58_68_F_model.fit(X_train, y_train)\n",
    "acc = accuracy_score(y_test, patients58_68_F_model.predict(X_test))\n",
    "models = models.append({'model': \"patients58_68_F_model\", 'accuracy': acc }, ignore_index=True)\n",
    "\n",
    "patients68_78_F = newData[(newData[\"Age\"]>=68) & (newData[\"Sex\"]==\"F\")]\n",
    "patients68_78_F = pd.get_dummies(patients68_78_F)\n",
    "X_train, X_test, y_train, y_test = train_test_split(patients68_78_F.loc[:, patients68_78_F.columns != 'HeartDisease'], patients68_78_F[\"HeartDisease\"], test_size=0.3, random_state=0)\n",
    "patients68_78_F_model = RandomForestClassifier(n_estimators = 1000, random_state=0)\n",
    "patients68_78_F_model.fit(X_train, y_train)\n",
    "acc = accuracy_score(y_test, patients68_78_F_model.predict(X_test))\n",
    "models = models.append({'model': \"patients68_78_F_model\", 'accuracy': acc }, ignore_index=True)\n",
    "print(models)\n"
   ]
  },
  {
   "cell_type": "code",
   "execution_count": null,
   "id": "f7e16645",
   "metadata": {},
   "outputs": [],
   "source": []
  }
 ],
 "metadata": {
  "kernelspec": {
   "display_name": "Python 3",
   "language": "python",
   "name": "python3"
  },
  "language_info": {
   "codemirror_mode": {
    "name": "ipython",
    "version": 3
   },
   "file_extension": ".py",
   "mimetype": "text/x-python",
   "name": "python",
   "nbconvert_exporter": "python",
   "pygments_lexer": "ipython3",
   "version": "3.8.8"
  }
 },
 "nbformat": 4,
 "nbformat_minor": 5
}
